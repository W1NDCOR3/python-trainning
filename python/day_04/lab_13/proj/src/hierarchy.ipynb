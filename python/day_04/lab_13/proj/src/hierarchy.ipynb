{
 "cells": [
  {
   "cell_type": "code",
   "execution_count": 10,
   "metadata": {},
   "outputs": [
    {
     "name": "stdout",
     "output_type": "stream",
     "text": [
      "3.14\n",
      "6.28\n",
      "1\n",
      "4\n"
     ]
    }
   ],
   "source": [
    "import random\n",
    "\n",
    "\n",
    "class Shape:\n",
    "    def area(self):\n",
    "        print(\"Every shape has an area. But each shape has a different formula to calculate it.\")\n",
    "        \n",
    "    def __str__(self) -> str:\n",
    "        return f\"{self.__class__.__name__ }: {self.area()} area\"\n",
    "    \n",
    "    \n",
    "        \n",
    "class Circle(Shape):\n",
    "    def __init__(self, radius=1):\n",
    "        self.radius = radius\n",
    "\n",
    "    def circumference(self):\n",
    "        return 3.14 * 2 * self.radius\n",
    "    \n",
    "    # NOTE: Overriding the area method from the Shape class\n",
    "    def area(self):\n",
    "        return 3.14 * self.radius ** 2\n",
    "    \n",
    "class Rectangle(Shape):\n",
    "    def __init__(self, width=1, height=1):\n",
    "        self.width = width\n",
    "        self.height = height\n",
    "\n",
    "    def perimeter(self):\n",
    "        return 2 * (self.width + self.height)\n",
    "\n",
    "    # NOTE: Overriding the area method from the Shape class\n",
    "    def area(self):\n",
    "        return self.width * self.height\n",
    "\n",
    "circle = Circle()\n",
    "print(circle.area())\n",
    "print(circle.circumference())\n",
    "\n",
    "rectangle = Rectangle()\n",
    "print(rectangle.area())\n",
    "print(rectangle.perimeter())\n",
    "\n",
    "def create_random_shapes(n: int):\n",
    "    \"\"\"\n",
    "    Creates a list of randomly generated shapes.\n",
    "\n",
    "    Parameters:\n",
    "        n (int): The number of shapes to generate.\n",
    "\n",
    "    Returns:\n",
    "        list: A list of randomly generated shapes.\n",
    "    \"\"\"\n",
    "    shapes = []\n",
    "\n",
    "    for _ in range(n):\n",
    "        shape = random.choice([Circle, Rectangle, Square])\n",
    "\n",
    "        if isinstance(shape, Rectangle):\n",
    "            shapes.append(shape(random.randint(1, 10), random.randint(1, 10)))\n",
    "        else:\n",
    "            shapes.append(shape(random.randint(1, 10)))\n",
    "    return shapes"
   ]
  }
 ],
 "metadata": {
  "kernelspec": {
   "display_name": "Python 3",
   "language": "python",
   "name": "python3"
  },
  "language_info": {
   "codemirror_mode": {
    "name": "ipython",
    "version": 3
   },
   "file_extension": ".py",
   "mimetype": "text/x-python",
   "name": "python",
   "nbconvert_exporter": "python",
   "pygments_lexer": "ipython3",
   "version": "3.11.9"
  }
 },
 "nbformat": 4,
 "nbformat_minor": 2
}
