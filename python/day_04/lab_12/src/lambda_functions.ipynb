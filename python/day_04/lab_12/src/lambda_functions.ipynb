{
 "cells": [
  {
   "cell_type": "code",
   "execution_count": 2,
   "metadata": {},
   "outputs": [
    {
     "name": "stdout",
     "output_type": "stream",
     "text": [
      "15\n"
     ]
    }
   ],
   "source": [
    "add_ten = lambda x: x + 10\n",
    "print(add_ten(5))  # Output: 15"
   ]
  },
  {
   "cell_type": "code",
   "execution_count": 3,
   "metadata": {},
   "outputs": [
    {
     "name": "stdout",
     "output_type": "stream",
     "text": [
      "[(5, 1), (1, 2), (6, 3), (3, 4)]\n"
     ]
    }
   ],
   "source": [
    "data = [(1, 2), (5, 1), (3, 4), (6, 3)]\n",
    "data.sort(key=lambda x: x[1])\n",
    "print(data)  # Output: [(5, 1), (1, 2), (6, 3), (3, 4)]"
   ]
  },
  {
   "cell_type": "code",
   "execution_count": 4,
   "metadata": {},
   "outputs": [
    {
     "name": "stdout",
     "output_type": "stream",
     "text": [
      "[2, 4, 6, 8, 10]\n"
     ]
    }
   ],
   "source": [
    "numbers = [1, 2, 3, 4, 5, 6, 7, 8, 9, 10]\n",
    "even_numbers = list(filter(lambda x: x % 2 == 0, numbers))\n",
    "print(even_numbers)  # Output: [2, 4, 6, 8, 10]"
   ]
  },
  {
   "cell_type": "code",
   "execution_count": 5,
   "metadata": {},
   "outputs": [
    {
     "name": "stdout",
     "output_type": "stream",
     "text": [
      "[1, 4, 9, 16, 25]\n"
     ]
    }
   ],
   "source": [
    "numbers = [1, 2, 3, 4, 5]\n",
    "squared_numbers = list(map(lambda x: x**2, numbers))\n",
    "print(squared_numbers)  # Output: [1, 4, 9, 16, 25]"
   ]
  },
  {
   "cell_type": "code",
   "execution_count": 6,
   "metadata": {},
   "outputs": [
    {
     "name": "stdout",
     "output_type": "stream",
     "text": [
      "15\n"
     ]
    }
   ],
   "source": [
    "from functools import reduce\n",
    "\n",
    "numbers = [1, 2, 3, 4, 5]\n",
    "sum_of_numbers = reduce(lambda x, y: x + y, numbers)\n",
    "print(sum_of_numbers)  # Output: 15"
   ]
  },
  {
   "cell_type": "code",
   "execution_count": 7,
   "metadata": {},
   "outputs": [
    {
     "name": "stdout",
     "output_type": "stream",
     "text": [
      "Filtered data: [(7, 8), (9, 7), (8, 9), (10, 10), (11, 12)]\n",
      "Sorted data: [(9, 7), (7, 8), (8, 9), (10, 10), (11, 12)]\n",
      "Product of the first elements: 55440\n"
     ]
    }
   ],
   "source": [
    "from functools import reduce\n",
    "data = [(1, 2), (5, 1), (3, 4), (6, 3), (2, 5), (4, 6), (7, 8), (9, 7), (8, 9), (10, 10), (11, 12)]\n",
    "\n",
    "# Step 1: Filter the list of tuples where the sum of elements is greater than 10\n",
    "filtered_data = list(filter(lambda x: sum(x) > 10, data))\n",
    "\n",
    "# Step 2: Sort the filtered list based on the second element of the tuples\n",
    "sorted_data = sorted(filtered_data, key=lambda x: x[1])\n",
    "\n",
    "# Step 3: Reduce the filtered list to calculate the product of the first elements of the tuples\n",
    "product_of_first_elements = reduce(lambda x, y: x * y, [t[0] for t in sorted_data])\n",
    "\n",
    "# Display the results\n",
    "print(\"Filtered data:\", filtered_data)\n",
    "print(\"Sorted data:\", sorted_data)\n",
    "print(\"Product of the first elements:\", product_of_first_elements)"
   ]
  },
  {
   "cell_type": "code",
   "execution_count": 8,
   "metadata": {},
   "outputs": [
    {
     "name": "stdout",
     "output_type": "stream",
     "text": [
      "[(3, 1), (4, 3), (5, 2)]\n"
     ]
    }
   ],
   "source": [
    "data = [(4, 3), (5, 2), (3, 1)]\n",
    "sorted_data = sorted(data, key=lambda x: x[0])\n",
    "print(sorted_data)  # Output: [(3, 1), (2, 2), (1, 3)]"
   ]
  }
 ],
 "metadata": {
  "kernelspec": {
   "display_name": "Python 3",
   "language": "python",
   "name": "python3"
  },
  "language_info": {
   "codemirror_mode": {
    "name": "ipython",
    "version": 3
   },
   "file_extension": ".py",
   "mimetype": "text/x-python",
   "name": "python",
   "nbconvert_exporter": "python",
   "pygments_lexer": "ipython3",
   "version": "3.11.9"
  }
 },
 "nbformat": 4,
 "nbformat_minor": 2
}
